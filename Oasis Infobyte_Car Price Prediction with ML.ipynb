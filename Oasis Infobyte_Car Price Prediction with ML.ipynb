{
 "cells": [
  {
   "cell_type": "markdown",
   "id": "bb42a696",
   "metadata": {},
   "source": [
    "# Import libraries\n",
    "\n",
    "# Import datetime to handle year, numpy to work with arrays and pandas to read in the dataset files, matplotlib & seaborn for plotting and sklearn for various machines learning models. "
   ]
  },
  {
   "cell_type": "code",
   "execution_count": null,
   "id": "2693c6a2",
   "metadata": {},
   "outputs": [],
   "source": [
    "import datetime\n",
    "\n",
    "import numpy as np\n",
    "import pandas as pd\n",
    "\n",
    "import matplotlib.pyplot as plt \n",
    "import seaborn as sns\n",
    "%matplotlib inline \n",
    "\n",
    "from sklearn.model_selection import train_test_split\n",
    "from sklearn.linear_model import LinearRegression\n",
    "from sklearn.ensemble import RandomForestRegressor\n",
    "from sklearn.preprocessing import StandardScaler\n",
    "from sklearn.metrics import r2_score "
   ]
  },
  {
   "cell_type": "markdown",
   "id": "b68d8f44",
   "metadata": {},
   "source": [
    "# Reading the dataset"
   ]
  },
  {
   "cell_type": "code",
   "execution_count": null,
   "id": "0f53485d",
   "metadata": {},
   "outputs": [],
   "source": [
    "data=pd.read_csv(\"C:\\\\Users\\\\Dell\\\\Desktop\\\\Code Playground\\\\OasisInfoByte\\\\Car Price Prediction\\\\CarPrice_Assignment.csv\")\n",
    "data.head(5)"
   ]
  },
  {
   "cell_type": "code",
   "execution_count": null,
   "id": "c5a0295a",
   "metadata": {},
   "outputs": [],
   "source": [
    "data.isnull().sum()"
   ]
  },
  {
   "cell_type": "markdown",
   "id": "7d59edb2",
   "metadata": {},
   "source": [
    "# Since the dataset doesn't have any null values, we need to look at other aspects of data to know the kind of data we're dealing with"
   ]
  },
  {
   "cell_type": "code",
   "execution_count": null,
   "id": "1b52d0fb",
   "metadata": {},
   "outputs": [],
   "source": [
    "data.info()"
   ]
  },
  {
   "cell_type": "code",
   "execution_count": null,
   "id": "b61a2fc6",
   "metadata": {},
   "outputs": [],
   "source": [
    "print(data.describe())"
   ]
  },
  {
   "cell_type": "code",
   "execution_count": null,
   "id": "94e9da56",
   "metadata": {},
   "outputs": [],
   "source": [
    "data.CarName.unique()"
   ]
  },
  {
   "cell_type": "markdown",
   "id": "e8b6331e",
   "metadata": {},
   "source": [
    "# The price column in this dataset is supposed to be the column whose values we need to predict. So, let's see the distribution of the values of price column:\n"
   ]
  },
  {
   "cell_type": "code",
   "execution_count": null,
   "id": "98e9a012",
   "metadata": {},
   "outputs": [],
   "source": [
    "sns.set_style (\"whitegrid\")\n",
    "plt.figure(figsize=(15,10))\n",
    "sns.distplot(data.price)\n",
    "plt.show()"
   ]
  },
  {
   "cell_type": "markdown",
   "id": "414679bc",
   "metadata": {},
   "source": [
    "# A look at the corelation among all the features of this dataset: "
   ]
  },
  {
   "cell_type": "code",
   "execution_count": null,
   "id": "f7febce0",
   "metadata": {},
   "outputs": [],
   "source": [
    "print(data.corr())"
   ]
  },
  {
   "cell_type": "code",
   "execution_count": null,
   "id": "761237bf",
   "metadata": {},
   "outputs": [],
   "source": [
    "plt.figure(figsize=(20,15))\n",
    "correlations=data.corr()\n",
    "sns.heatmap(correlations,cmap=\"coolwarm\",annot=True)\n",
    "plt.show()"
   ]
  },
  {
   "cell_type": "markdown",
   "id": "cedb5974",
   "metadata": {},
   "source": [
    "# Training a car price prediction model \n",
    "\n",
    "# The decision tree regression algorithm to train a car price prediction model is being used. \n",
    "# The data will be split into training and test sets and use the decision tree regression algorithm to train the model:"
   ]
  },
  {
   "cell_type": "code",
   "execution_count": null,
   "id": "e591e267",
   "metadata": {},
   "outputs": [],
   "source": [
    "predict = \"price\"\n",
    "data=data [[\"symboling\",\"wheelbase\",\"carlength\",\n",
    "           \"carwidth\",\"carheight\",\"curbweight\",\n",
    "           \"enginesize\",\"boreratio\",\"stroke\",\n",
    "           \"compressionratio\",\"horsepower\",\"peakrpm\",\n",
    "           \"citympg\",\"highwaympg\",\"price\"]]\n",
    "x=np.array(data.drop([predict],1))\n",
    "y=np.array(data[predict])\n",
    "\n",
    "from sklearn.model_selection import train_test_split \n",
    "xtrain, xtest, ytrain, ytest= train_test_split(x,y,test_size=0.2)\n",
    "\n",
    "from sklearn.tree import DecisionTreeRegressor \n",
    "model=DecisionTreeRegressor ()\n",
    "model.fit(xtrain,ytrain)\n",
    "predictions=model.predict(xtest)\n",
    "\n",
    "from sklearn.metrics import mean_absolute_error\n",
    "model.score(xtest,predictions)"
   ]
  },
  {
   "cell_type": "markdown",
   "id": "de535828",
   "metadata": {},
   "source": [
    "# The model gives 100% accuracy on dataset."
   ]
  },
  {
   "cell_type": "markdown",
   "id": "310ddd25",
   "metadata": {},
   "source": [
    "# Summary \n",
    "\n",
    "# This is how we can train a ML model for the task of predicting car prices by using Python. \n",
    "# It is a major research topic because price of a car depends on many factors."
   ]
  }
 ],
 "metadata": {
  "kernelspec": {
   "display_name": "Python 3 (ipykernel)",
   "language": "python",
   "name": "python3"
  },
  "language_info": {
   "codemirror_mode": {
    "name": "ipython",
    "version": 3
   },
   "file_extension": ".py",
   "mimetype": "text/x-python",
   "name": "python",
   "nbconvert_exporter": "python",
   "pygments_lexer": "ipython3",
   "version": "3.11.3"
  }
 },
 "nbformat": 4,
 "nbformat_minor": 5
}
